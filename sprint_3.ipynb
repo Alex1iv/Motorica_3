{
 "cells": [
  {
   "cell_type": "markdown",
   "metadata": {},
   "source": [
    "<center><font size=\"6\">Хакатон от Моторики</font>\n",
    "\n",
    "[Третий этап](https://www.kaggle.com/competitions/motorica-advanced-gesture-classification)\n",
    "\n",
    "Команда 1"
   ]
  },
  {
   "cell_type": "code",
   "execution_count": null,
   "metadata": {},
   "outputs": [],
   "source": []
  }
 ],
 "metadata": {
  "kernelspec": {
   "display_name": "Python 3.10.7 64-bit (microsoft store)",
   "language": "python",
   "name": "python3"
  },
  "language_info": {
   "name": "python",
   "version": "3.10.7"
  },
  "orig_nbformat": 4,
  "vscode": {
   "interpreter": {
    "hash": "a479bb5f8968b52615698261a259b9a9b2e2f51a5742308d3040262dc733ed67"
   }
  }
 },
 "nbformat": 4,
 "nbformat_minor": 2
}
