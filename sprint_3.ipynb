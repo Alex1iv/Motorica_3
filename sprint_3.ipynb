{
 "cells": [
  {
   "cell_type": "markdown",
   "metadata": {},
   "source": [
    "<center><font size=\"6\">Хакатон от Моторики</font>\n",
    "\n",
    "[Третий этап](https://www.kaggle.com/competitions/motorica-advanced-gesture-classification)\n",
    "\n",
    "Команда 1"
   ]
  },
  {
   "cell_type": "markdown",
   "metadata": {},
   "source": [
    "**Задача:**  Построить классификационную модель, которая по показаниям оптомиографических датчиков будет определять жест оператора протеза кисти во время записи данных, что отражено в значении целевой переменной. \n",
    "\n",
    "Имеется три оператора, выполнявшие некоторую последовательность жестов. В результате наблюдений получены показания датчиков в виде непрерывного временного ряда. \n",
    "\n",
    "Список файлов, в котором символ * обозначает индекс оператора:\n",
    "* X_train_*.npy - обучающая выборка, имеющая размерности \"наблюдения, датчики, время\";\n",
    "* X_test_dataset_*.pkl - тестовая выборка, имеющая размерности \"наблюдения, датчики, время\";\n",
    "* sample_submission.csv - некоторое решение задачи, из которого можно взять формат загрузки данных на Kaggle;\n",
    "* y_train_*.npy - целевая переменная для обучающей выборки, которая содержит следующие классы:\n",
    "\n",
    "| Номер <br> класса | Описание жеста |\n",
    "| :---: | :--- |\n",
    "| \"-1\"  |  потенциально \"битые\" данные |\n",
    "| \"0\"  |  жест \"open\" - разгиб всех пальцев |\n",
    "| \"1\"  |  жест \"пистолет\" |\n",
    "| \"2\"  |  сгиб большого пальца |\n",
    "| \"3\"  |  жест \"ok\" |\n",
    "| \"4\"  |  жест \"grab\" |\n",
    "\n",
    "* functions.py - библиотека функций, применяемых в данном ноутбуке."
   ]
  },
  {
   "cell_type": "markdown",
   "metadata": {},
   "source": [
    "# Import библиотек и описание функций"
   ]
  },
  {
   "cell_type": "code",
   "execution_count": 3,
   "metadata": {
    "id": "p3tvY4ssJ6D0"
   },
   "outputs": [],
   "source": [
    "# импортируем библиотеки\n",
    "import pandas as pd\n",
    "import numpy as np\n",
    "import copy\n",
    "import pickle\n",
    "\n",
    "# графические библиотеки\n",
    "import matplotlib.pyplot as plt\n",
    "import seaborn as sns\n",
    "import plotly.express as px\n",
    "import plotly.graph_objects as go\n",
    "from plotly.subplots import make_subplots\n",
    "\n",
    "# библиотеки машинного обучения\n",
    "from sklearn.metrics import f1_score\n",
    "from sklearn.model_selection import StratifiedKFold, cross_validate\n",
    "from sklearn.linear_model import LogisticRegression\n",
    "from sklearn.preprocessing import StandardScaler\n",
    "\n",
    "# отображать по умолчанию длину дата Датафрейма\n",
    "pd.set_option(\"display.max_rows\", 9, \"display.max_columns\", 9)\n",
    "\n",
    "# библиотека взаимодействия с интерпретатором\n",
    "import sys\n",
    "if not sys.warnoptions:\n",
    "    import warnings\n",
    "    warnings.simplefilter(\"ignore\")\n",
    "import os"
   ]
  },
  {
   "cell_type": "code",
   "execution_count": 4,
   "metadata": {},
   "outputs": [],
   "source": [
    "# библиотека вызова функций\n",
    "import functions as f\n",
    "\n",
    "# константы и глобальные параметры данных\n",
    "PATH = 'data/'\n",
    "GEST = 5          # количество основных жестов (кроме 'битых' данных)\n",
    "PL = 3            # количество пилотов (независимых рядов данных)\n",
    "SENS = 50         # количество датчиков\n",
    "\n",
    "X_train = ['' for p in range(PL)]  # список объектов X_train\n",
    "y_train = ['' for p in range(PL)]  # список объектов y_train\n",
    "X_test = ['' for p in range(PL)]   # список объектов X_test\n",
    "\n",
    "t_train = ['' for p in range(PL)]   # список длин X_train и y_train (кол-во временных тиков)\n",
    "t_test = [0 for p in range(PL)]     # список с общим количеством временных тиков в X_test\n",
    "s_test = ['' for p in range(PL)]    # список с количеством событий в X_test\n",
    "tt_test = [[] for p in range(PL)]   # список списков с длинами событий в X_test\n"
   ]
  },
  {
   "cell_type": "markdown",
   "metadata": {},
   "source": [
    "*Пример вызова функции из файла. Если добавленная Вами функция не работает, то перезапустите ядро*"
   ]
  },
  {
   "cell_type": "code",
   "execution_count": 5,
   "metadata": {},
   "outputs": [
    {
     "name": "stdout",
     "output_type": "stream",
     "text": [
      "privet Oleg\n"
     ]
    }
   ],
   "source": [
    "f.privet('Oleg')"
   ]
  },
  {
   "cell_type": "markdown",
   "metadata": {},
   "source": [
    "# Загрузка данных\n",
    "---"
   ]
  },
  {
   "cell_type": "code",
   "execution_count": 6,
   "metadata": {},
   "outputs": [],
   "source": [
    "# Файлы можно хранить в архиве и читать прямо из него.\n",
    "\n",
    "import zipfile\n",
    "archive = zipfile.ZipFile('data/motorica-advanced-gesture-classification.zip', 'r')\n",
    "\n",
    "X_test_dataset_1 = archive.read('X_test_dataset_1.pkl')\n",
    "X_test_dataset_2 = archive.read('X_test_dataset_2.pkl')\n",
    "X_test_dataset_3 = archive.read('X_test_dataset_3.pkl')\n",
    "X_train_1 = archive.read('X_train_1.npy')\n",
    "X_train_2 = archive.read('X_train_2.npy')\n",
    "X_train_3 = archive.read('X_train_3.npy')\n",
    "y_train_1 = archive.read('y_train_1.npy')\n",
    "y_train_2 = archive.read('y_train_2.npy')\n",
    "y_train_3 = archive.read('y_train_3.npy')"
   ]
  },
  {
   "cell_type": "code",
   "execution_count": 7,
   "metadata": {},
   "outputs": [],
   "source": [
    "mounts = {\n",
    "    1 : {\n",
    "        'path_X_train' : 'X_train_1.npy',\n",
    "        'path_y_train' : 'y_train_1.npy',\n",
    "        'path_X_test_dataset' : 'X_test_dataset_1.pkl',\n",
    "    },\n",
    "    2 : {\n",
    "        'path_X_train' : 'X_train_2.npy',\n",
    "        'path_y_train' : 'y_train_2.npy',\n",
    "        'path_X_test_dataset' : 'X_test_dataset_2.pkl',\n",
    "    },\n",
    "    3 : {\n",
    "        'path_X_train' : 'X_train_3.npy',\n",
    "        'path_y_train' : 'y_train_3.npy',\n",
    "        'path_X_test_dataset' : 'X_test_dataset_3.pkl',\n",
    "    }\n",
    "}"
   ]
  },
  {
   "cell_type": "code",
   "execution_count": 11,
   "metadata": {},
   "outputs": [
    {
     "name": "stdout",
     "output_type": "stream",
     "text": [
      "899\n",
      "855\n",
      "861\n"
     ]
    }
   ],
   "source": [
    "path_to_zip = '.\\data\\motorica-advanced-gesture-classification.zip'\n",
    "from zipfile import *\n",
    "for mount_name, mount in mounts.items():\n",
    "    mount['X_train'] = np.load(path_to_zip)[mount['path_X_train']]\n",
    "    mount['y_train'] = np.load(path_to_zip)[mount['path_y_train']]\n",
    "    with ZipFile('.\\data\\motorica-advanced-gesture-classification.zip') as myzip:\n",
    "        with myzip.open(mount['path_X_test_dataset']) as myfile:\n",
    "            mount['X_test_dataset'] = pickle.load(myfile)\n",
    "    print(len(mount['X_test_dataset']))"
   ]
  },
  {
   "cell_type": "code",
   "execution_count": 12,
   "metadata": {},
   "outputs": [
    {
     "name": "stdout",
     "output_type": "stream",
     "text": [
      "длина обучающей выборки пилота №1 = 24030\n",
      "длина обучающей выборки пилота №2 = 23202\n",
      "длина обучающей выборки пилота №3 = 23177\n"
     ]
    }
   ],
   "source": [
    "# загрузка обучающей выборки и меток классов, тестовой выборки\n",
    "X_test_raw = ['' for p in range(PL)]\n",
    "for p in range(PL):\n",
    "    X_train[p] = np.load(os.path.join(PATH, 'X_train_' + f'{p+1}' + '.npy'))\n",
    "    t_train[p] = X_train[p].shape[0]\n",
    "    \n",
    "    y_train[p] = np.load(os.path.join(PATH, 'y_train_' + f'{p+1}' + '.npy'))\n",
    "    if y_train[p].shape[0] == t_train[p]:\n",
    "        print(f'длина обучающей выборки пилота №{p+1} = {t_train[p]}')\n",
    "    else:\n",
    "        print(f'длина обучающей выборки и меток классов пилота №{p+1} не совпадают!')\n",
    "    \n",
    "    with open(os.path.join(PATH, 'X_test_dataset_' + f'{p+1}' + '.pkl'), 'rb') as file:\n",
    "        X_test_raw[p] = pickle.load(file)"
   ]
  },
  {
   "cell_type": "code",
   "execution_count": 13,
   "metadata": {},
   "outputs": [
    {
     "name": "stdout",
     "output_type": "stream",
     "text": [
      "Тип данных X_train:  <class 'numpy.ndarray'>\n",
      "Размерность файла X_train_1: (24030, 50) - время, датчики\n",
      "X_train первого пилота:\n"
     ]
    },
    {
     "data": {
      "text/plain": [
       "array([[2711,   16, 1803, ...,    8,   14,    7],\n",
       "       [2712,   10, 1802, ...,    6,   12,    6],\n",
       "       [2711,   13, 1803, ...,    5,   16,    8],\n",
       "       ...,\n",
       "       [2707,   16, 1851, ...,    6,   13,    6],\n",
       "       [2707,   18, 1850, ...,    8,   12,    6],\n",
       "       [2710,   16, 1851, ...,    9,   11,    8]], dtype=int64)"
      ]
     },
     "execution_count": 13,
     "metadata": {},
     "output_type": "execute_result"
    }
   ],
   "source": [
    "# смотрим на исходные данные\n",
    "print('Тип данных X_train: ', type(X_train[0]))\n",
    "print(f'Размерность файла X_train_1: {X_train[0].shape} - время, датчики')\n",
    "print('X_train первого пилота:')\n",
    "X_train[0]"
   ]
  },
  {
   "cell_type": "code",
   "execution_count": 14,
   "metadata": {},
   "outputs": [
    {
     "name": "stdout",
     "output_type": "stream",
     "text": [
      "Тип данных y_train:  <class 'numpy.ndarray'>\n",
      "Размерность файла y_train_1: (24030,) - время\n",
      "y_train первого пилота:\n"
     ]
    },
    {
     "data": {
      "text/plain": [
       "array([0, 0, 0, ..., 3, 3, 3], dtype=int64)"
      ]
     },
     "execution_count": 14,
     "metadata": {},
     "output_type": "execute_result"
    }
   ],
   "source": [
    "print('Тип данных y_train: ', type(y_train[0]))\n",
    "print(f'Размерность файла y_train_1: {y_train[0].shape} - время')\n",
    "print('y_train первого пилота:')\n",
    "y_train[0]"
   ]
  },
  {
   "cell_type": "code",
   "execution_count": 15,
   "metadata": {},
   "outputs": [
    {
     "name": "stdout",
     "output_type": "stream",
     "text": [
      "Тип данных X_test:  <class 'list'>\n",
      "Размерность файла X_test_1: (899, 50, 181) - событие, датчики, время\n",
      "X_test первого пилота, событие \"0\":\n"
     ]
    },
    {
     "data": {
      "text/plain": [
       "array([[2869, 2871, 2876, ..., 2937, 2936, 2938],\n",
       "       [  15,   12,   15, ...,   15,   17,   15],\n",
       "       [1866, 1865, 1863, ..., 1838, 1836, 1836],\n",
       "       ...,\n",
       "       [   7,    7,    6, ...,    7,    8,    6],\n",
       "       [  13,   13,   14, ...,   14,   13,   13],\n",
       "       [   6,    6,    7, ...,    6,    7,    7]], dtype=int64)"
      ]
     },
     "execution_count": 15,
     "metadata": {},
     "output_type": "execute_result"
    }
   ],
   "source": [
    "print('Тип данных X_test: ', type(X_test_raw[0]))\n",
    "print(f'Размерность файла X_test_1: ({len(X_test_raw[0])}, {len(X_test_raw[0][0])}, '\n",
    "      + f'{len(X_test_raw[0][0][0])}) - событие, датчики, время')\n",
    "print('X_test первого пилота, событие \"0\":')\n",
    "X_test_raw[0][0]"
   ]
  },
  {
   "cell_type": "code",
   "execution_count": 16,
   "metadata": {},
   "outputs": [
    {
     "name": "stdout",
     "output_type": "stream",
     "text": [
      "Количество событий для пилота №1 = 899\n",
      "Количество событий для пилота №2 = 855\n",
      "Количество событий для пилота №3 = 861\n",
      "X_test первого пилота содержит всего 161966 временных тиков\n",
      "X_test первого пилота, событие \"0\" длиной 181 тиков:\n"
     ]
    },
    {
     "data": {
      "text/plain": [
       "array([[2869,   15, 1866, ...,    7,   13,    6],\n",
       "       [2871,   12, 1865, ...,    7,   13,    6],\n",
       "       [2876,   15, 1863, ...,    6,   14,    7],\n",
       "       ...,\n",
       "       [2937,   15, 1838, ...,    7,   14,    6],\n",
       "       [2936,   17, 1836, ...,    8,   13,    7],\n",
       "       [2938,   15, 1836, ...,    6,   13,    7]], dtype=int64)"
      ]
     },
     "execution_count": 16,
     "metadata": {},
     "output_type": "execute_result"
    }
   ],
   "source": [
    "# транспонируем np.array для каждого события в X_test\n",
    "t_test = [0 for p in range(PL)]\n",
    "X_test = copy.deepcopy(X_test_raw)\n",
    "for p in range(PL):\n",
    "    s_test[p] = len(X_test_raw[p])\n",
    "    print(f'Количество событий для пилота №{p+1} = {s_test[p]}')\n",
    "    for s in range(s_test[p]):\n",
    "        X_test[p][s] = X_test[p][s].T\n",
    "        tt_test[p].append(len(X_test[p][s]))\n",
    "        t_test[p] += tt_test[p][s]\n",
    "print(f'X_test первого пилота содержит всего {t_test[0]} временных тиков')\n",
    "print(f'X_test первого пилота, событие \"0\" длиной {tt_test[0][0]} тиков:')\n",
    "X_test[0][0]"
   ]
  },
  {
   "cell_type": "code",
   "execution_count": null,
   "metadata": {},
   "outputs": [],
   "source": []
  }
 ],
 "metadata": {
  "kernelspec": {
   "display_name": "Python 3.9.5 64-bit",
   "language": "python",
   "name": "python3"
  },
  "language_info": {
   "codemirror_mode": {
    "name": "ipython",
    "version": 3
   },
   "file_extension": ".py",
   "mimetype": "text/x-python",
   "name": "python",
   "nbconvert_exporter": "python",
   "pygments_lexer": "ipython3",
   "version": "3.9.5"
  },
  "orig_nbformat": 4,
  "vscode": {
   "interpreter": {
    "hash": "b7ce4856bb191254866f13834f1feb508e008bc3e4294ce194585e573eb913ce"
   }
  }
 },
 "nbformat": 4,
 "nbformat_minor": 2
}
