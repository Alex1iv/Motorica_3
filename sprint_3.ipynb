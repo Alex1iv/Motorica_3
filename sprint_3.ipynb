{
 "cells": [
  {
   "cell_type": "markdown",
   "metadata": {},
   "source": [
    "<center><font size=\"6\">Хакатон от Моторики</font>\n",
    "\n",
    "[Третий этап](https://www.kaggle.com/competitions/motorica-advanced-gesture-classification)\n",
    "\n",
    "Команда 1"
   ]
  },
  {
   "cell_type": "code",
   "execution_count": null,
   "metadata": {},
   "outputs": [],
   "source": []
  }
 ],
 "metadata": {
  "kernelspec": {
   "display_name": "Python 3.9.5 64-bit",
   "language": "python",
   "name": "python3"
  },
  "language_info": {
   "name": "python",
   "version": "3.9.5"
  },
  "orig_nbformat": 4,
  "vscode": {
   "interpreter": {
    "hash": "b7ce4856bb191254866f13834f1feb508e008bc3e4294ce194585e573eb913ce"
   }
  }
 },
 "nbformat": 4,
 "nbformat_minor": 2
}
