{
 "cells": [
  {
   "cell_type": "markdown",
   "metadata": {},
   "source": [
    "<center><font size=\"6\">Хакатон от Моторики</font>\n",
    "\n",
    "[Третий этап](https://www.kaggle.com/competitions/motorica-advanced-gesture-classification)\n",
    "\n",
    "Команда 1"
   ]
  },
  {
   "cell_type": "markdown",
   "metadata": {},
   "source": [
    "**Задача:**  Построить классификационную пмодель, которая по показаниям от оптомиографических датчиков будет определять жест оператора протеза кисти во время записи данных, что отражено в значении целевой переменной. \n",
    "\n",
    "Имеется три оператора, выполнявшие некоторую последовательность жестов. В результате их работы получены показания датчиков в виде непрерывного временного ряда. \n",
    "\n",
    "Список файлов, в котором символ * обозначает индекс оператора:\n",
    "* X_train_*.npy - обучающая выборка, имеющая размерности \"наблюдения, датчики, время\";\n",
    "* X_test_dataset_*.pkl - тестоваая выборка имеющая размерности \"наблюдения, датчики, время\";\n",
    "* sample_submission.csv - некоторое решение задачи из которого можно взять формат загрузки данных на Kaggle;\n",
    "* y_train_*.npy - целевая переменная для обучающей выборки, которая содержит следующие классы:\n",
    "\n",
    "| Номер <br> класса | Описание жеста |\n",
    "| :---: | :--- |\n",
    "| \"-1\"  |  потенциально \"битые\" данные |\n",
    "| \"0\"  |  жест \"open\" - разгиб всех пальцев |\n",
    "| \"1\"  |  жест \"пистолет\" |\n",
    "| \"2\"  |  сгиб большого пальца |\n",
    "| \"3\"  |  жест \"ok\" |\n",
    "| \"4\"  |  жест \"grab\" |\n",
    "\n",
    "* functions.py - библиотека функций, применяемых в данном ноутбуке."
   ]
  },
  {
   "cell_type": "markdown",
   "metadata": {},
   "source": [
    "# Import библиотек и описание функций"
   ]
  },
  {
   "cell_type": "code",
   "execution_count": 1,
   "metadata": {
    "id": "p3tvY4ssJ6D0"
   },
   "outputs": [],
   "source": [
    "# Импортируем библиотеки\n",
    "import pandas as pd\n",
    "import numpy as np\n",
    "\n",
    "# графические библиотеки\n",
    "import matplotlib.pyplot as plt\n",
    "import seaborn as sns\n",
    "import plotly.express as px\n",
    "import plotly.graph_objects as go\n",
    "from plotly.subplots import make_subplots\n",
    "\n",
    "# библиотеки машинного обучения\n",
    "from sklearn.metrics import f1_score\n",
    "from sklearn.model_selection import StratifiedKFold, cross_validate\n",
    "from sklearn.linear_model import LogisticRegression\n",
    "from sklearn.preprocessing import StandardScaler\n",
    "\n",
    "# отображать по умолчанию длину дата Датафрейма\n",
    "pd.set_option(\"display.max_rows\", 9, \"display.max_columns\", 9)\n",
    "\n",
    "# библиотека взаимодействия с интерпретатором\n",
    "\n",
    "import sys\n",
    "if not sys.warnoptions:\n",
    "    import warnings\n",
    "    warnings.simplefilter(\"ignore\")\n",
    "import os"
   ]
  },
  {
   "cell_type": "code",
   "execution_count": 36,
   "metadata": {},
   "outputs": [],
   "source": [
    "# библиотека вызова функций\n",
    "import functions"
   ]
  },
  {
   "cell_type": "markdown",
   "metadata": {},
   "source": [
    "*Пример вызова функции из файла*"
   ]
  },
  {
   "cell_type": "code",
   "execution_count": 28,
   "metadata": {},
   "outputs": [
    {
     "name": "stdout",
     "output_type": "stream",
     "text": [
      "0 1 1 2 3 5 8 13 21 34 55 89 \n"
     ]
    }
   ],
   "source": [
    "functions.fib(100)"
   ]
  },
  {
   "cell_type": "markdown",
   "metadata": {},
   "source": [
    "# Загрузка данных\n",
    "---"
   ]
  },
  {
   "cell_type": "code",
   "execution_count": null,
   "metadata": {},
   "outputs": [],
   "source": [
    "#загрузка обучающей выборки и меток классов\n",
    "X_train = np.load('X_train.npy')\n",
    "y_train = pd.read_csv('y_train.csv', index_col='Id').reset_index(drop = True)\n",
    "\n",
    "#загрузка тестовой выборки\n",
    "X_test = np.load('X_test.npy')\n",
    "\n",
    "print(f\"Размерность файла 'X_train': {X_train.shape}. Размерность: наблюдения, датчики, время\")\n",
    "print(f\"Размерность файла 'y_train': {y_train.shape}\")"
   ]
  }
 ],
 "metadata": {
  "kernelspec": {
   "display_name": "Python 3.9.5 64-bit",
   "language": "python",
   "name": "python3"
  },
  "language_info": {
   "codemirror_mode": {
    "name": "ipython",
    "version": 3
   },
   "file_extension": ".py",
   "mimetype": "text/x-python",
   "name": "python",
   "nbconvert_exporter": "python",
   "pygments_lexer": "ipython3",
   "version": "3.9.5"
  },
  "orig_nbformat": 4,
  "vscode": {
   "interpreter": {
    "hash": "b7ce4856bb191254866f13834f1feb508e008bc3e4294ce194585e573eb913ce"
   }
  }
 },
 "nbformat": 4,
 "nbformat_minor": 2
}
